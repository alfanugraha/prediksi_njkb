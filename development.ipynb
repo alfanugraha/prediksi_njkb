{
 "cells": [
  {
   "cell_type": "markdown",
   "metadata": {},
   "source": [
    "# LOAD LIBRARY"
   ]
  },
  {
   "cell_type": "code",
   "execution_count": 14,
   "metadata": {},
   "outputs": [],
   "source": [
    "import numpy as np\n",
    "import pandas as pd\n",
    "import matplotlib.pyplot as plt\n",
    "import seaborn as sns\n",
    "from sklearn.model_selection import train_test_split, cross_val_score, GridSearchCV\n",
    "from sklearn.linear_model import LinearRegression\n",
    "from sklearn.ensemble import RandomForestRegressor, GradientBoostingRegressor\n",
    "from sklearn.svm import SVR\n",
    "from sklearn.metrics import mean_squared_error, r2_score, mean_absolute_error\n",
    "from sklearn.preprocessing import OneHotEncoder, StandardScaler\n",
    "from sklearn.compose import ColumnTransformer\n",
    "from sklearn.pipeline import Pipeline\n",
    "import time"
   ]
  },
  {
   "cell_type": "markdown",
   "metadata": {},
   "source": [
    "# LOAD DATA"
   ]
  },
  {
   "cell_type": "code",
   "execution_count": 2,
   "metadata": {},
   "outputs": [
    {
     "data": {
      "application/vnd.microsoft.datawrangler.viewer.v0+json": {
       "columns": [
        {
         "name": "index",
         "rawType": "int64",
         "type": "integer"
        },
        {
         "name": "MEREK",
         "rawType": "object",
         "type": "string"
        },
        {
         "name": "HARGA",
         "rawType": "int64",
         "type": "integer"
        },
        {
         "name": "KENDARAAN",
         "rawType": "object",
         "type": "string"
        },
        {
         "name": "ODOMETER",
         "rawType": "float64",
         "type": "float"
        },
        {
         "name": "TRANSMISI",
         "rawType": "object",
         "type": "string"
        },
        {
         "name": "JENIS_KENDARAAN",
         "rawType": "object",
         "type": "string"
        },
        {
         "name": "TAHUN_BUAT",
         "rawType": "int64",
         "type": "integer"
        },
        {
         "name": "NEGARA",
         "rawType": "object",
         "type": "string"
        }
       ],
       "conversionMethod": "pd.DataFrame",
       "ref": "6a0389f8-82e7-4e61-aeb2-46a742fc1ce2",
       "rows": [
        [
         "0",
         "FORD",
         "85000000",
         "MOBIL",
         "102500.0",
         "MATIC",
         "MINIBUS",
         "2013",
         "AMERIKA"
        ],
        [
         "1",
         "FORD",
         "85000000",
         "MOBIL",
         "102500.0",
         "MATIC",
         "MINIBUS",
         "2013",
         "AMERIKA"
        ],
        [
         "2",
         "FORD",
         "85000000",
         "MOBIL",
         "102500.0",
         "MATIC",
         "MINIBUS",
         "2013",
         "AMERIKA"
        ],
        [
         "3",
         "FORD",
         "85000000",
         "MOBIL",
         "102500.0",
         "MATIC",
         "MINIBUS",
         "2013",
         "AMERIKA"
        ],
        [
         "4",
         "FORD",
         "85000000",
         "MOBIL",
         "102500.0",
         "MATIC",
         "MINIBUS",
         "2013",
         "AMERIKA"
        ]
       ],
       "shape": {
        "columns": 8,
        "rows": 5
       }
      },
      "text/html": [
       "<div>\n",
       "<style scoped>\n",
       "    .dataframe tbody tr th:only-of-type {\n",
       "        vertical-align: middle;\n",
       "    }\n",
       "\n",
       "    .dataframe tbody tr th {\n",
       "        vertical-align: top;\n",
       "    }\n",
       "\n",
       "    .dataframe thead th {\n",
       "        text-align: right;\n",
       "    }\n",
       "</style>\n",
       "<table border=\"1\" class=\"dataframe\">\n",
       "  <thead>\n",
       "    <tr style=\"text-align: right;\">\n",
       "      <th></th>\n",
       "      <th>MEREK</th>\n",
       "      <th>HARGA</th>\n",
       "      <th>KENDARAAN</th>\n",
       "      <th>ODOMETER</th>\n",
       "      <th>TRANSMISI</th>\n",
       "      <th>JENIS_KENDARAAN</th>\n",
       "      <th>TAHUN_BUAT</th>\n",
       "      <th>NEGARA</th>\n",
       "    </tr>\n",
       "  </thead>\n",
       "  <tbody>\n",
       "    <tr>\n",
       "      <th>0</th>\n",
       "      <td>FORD</td>\n",
       "      <td>85000000</td>\n",
       "      <td>MOBIL</td>\n",
       "      <td>102500.0</td>\n",
       "      <td>MATIC</td>\n",
       "      <td>MINIBUS</td>\n",
       "      <td>2013</td>\n",
       "      <td>AMERIKA</td>\n",
       "    </tr>\n",
       "    <tr>\n",
       "      <th>1</th>\n",
       "      <td>FORD</td>\n",
       "      <td>85000000</td>\n",
       "      <td>MOBIL</td>\n",
       "      <td>102500.0</td>\n",
       "      <td>MATIC</td>\n",
       "      <td>MINIBUS</td>\n",
       "      <td>2013</td>\n",
       "      <td>AMERIKA</td>\n",
       "    </tr>\n",
       "    <tr>\n",
       "      <th>2</th>\n",
       "      <td>FORD</td>\n",
       "      <td>85000000</td>\n",
       "      <td>MOBIL</td>\n",
       "      <td>102500.0</td>\n",
       "      <td>MATIC</td>\n",
       "      <td>MINIBUS</td>\n",
       "      <td>2013</td>\n",
       "      <td>AMERIKA</td>\n",
       "    </tr>\n",
       "    <tr>\n",
       "      <th>3</th>\n",
       "      <td>FORD</td>\n",
       "      <td>85000000</td>\n",
       "      <td>MOBIL</td>\n",
       "      <td>102500.0</td>\n",
       "      <td>MATIC</td>\n",
       "      <td>MINIBUS</td>\n",
       "      <td>2013</td>\n",
       "      <td>AMERIKA</td>\n",
       "    </tr>\n",
       "    <tr>\n",
       "      <th>4</th>\n",
       "      <td>FORD</td>\n",
       "      <td>85000000</td>\n",
       "      <td>MOBIL</td>\n",
       "      <td>102500.0</td>\n",
       "      <td>MATIC</td>\n",
       "      <td>MINIBUS</td>\n",
       "      <td>2013</td>\n",
       "      <td>AMERIKA</td>\n",
       "    </tr>\n",
       "  </tbody>\n",
       "</table>\n",
       "</div>"
      ],
      "text/plain": [
       "  MEREK     HARGA KENDARAAN  ODOMETER TRANSMISI JENIS_KENDARAAN  TAHUN_BUAT  \\\n",
       "0  FORD  85000000     MOBIL  102500.0     MATIC         MINIBUS        2013   \n",
       "1  FORD  85000000     MOBIL  102500.0     MATIC         MINIBUS        2013   \n",
       "2  FORD  85000000     MOBIL  102500.0     MATIC         MINIBUS        2013   \n",
       "3  FORD  85000000     MOBIL  102500.0     MATIC         MINIBUS        2013   \n",
       "4  FORD  85000000     MOBIL  102500.0     MATIC         MINIBUS        2013   \n",
       "\n",
       "    NEGARA  \n",
       "0  AMERIKA  \n",
       "1  AMERIKA  \n",
       "2  AMERIKA  \n",
       "3  AMERIKA  \n",
       "4  AMERIKA  "
      ]
     },
     "execution_count": 2,
     "metadata": {},
     "output_type": "execute_result"
    }
   ],
   "source": [
    "df_ori = pd.read_csv(\"data/training.csv\")\n",
    "df_ori.head()"
   ]
  },
  {
   "cell_type": "code",
   "execution_count": 12,
   "metadata": {},
   "outputs": [
    {
     "name": "stdout",
     "output_type": "stream",
     "text": [
      "<class 'pandas.core.frame.DataFrame'>\n",
      "RangeIndex: 89458 entries, 0 to 89457\n",
      "Data columns (total 8 columns):\n",
      " #   Column           Non-Null Count  Dtype  \n",
      "---  ------           --------------  -----  \n",
      " 0   MEREK            89458 non-null  object \n",
      " 1   HARGA            89458 non-null  int64  \n",
      " 2   KENDARAAN        89458 non-null  object \n",
      " 3   ODOMETER         89452 non-null  float64\n",
      " 4   TRANSMISI        74298 non-null  object \n",
      " 5   JENIS_KENDARAAN  88935 non-null  object \n",
      " 6   TAHUN_BUAT       89458 non-null  int64  \n",
      " 7   NEGARA           89458 non-null  object \n",
      "dtypes: float64(1), int64(2), object(5)\n",
      "memory usage: 5.5+ MB\n"
     ]
    }
   ],
   "source": [
    "df_ori.info()"
   ]
  },
  {
   "cell_type": "code",
   "execution_count": 9,
   "metadata": {},
   "outputs": [
    {
     "data": {
      "text/plain": [
       "Text(0, 0.5, 'Price (IDR)')"
      ]
     },
     "execution_count": 9,
     "metadata": {},
     "output_type": "execute_result"
    },
    {
     "data": {
      "image/png": "[encoded data removed]",
      "text/plain": [
       "<Figure size 1200x1000 with 1 Axes>"
      ]
     },
     "metadata": {},
     "output_type": "display_data"
    }
   ],
   "source": [
    "# Visualize relationships\n",
    "plt.figure(figsize=(12, 10))\n",
    "\n",
    "# Plot 1: Price vs Year with brands colored\n",
    "plt.subplot(2, 2, 1)\n",
    "sns.scatterplot(data=df_ori, x='TAHUN_BUAT', y='HARGA', hue='MEREK', alpha=0.7)\n",
    "plt.title('Car Price vs Year')\n",
    "plt.ylabel('Price (IDR)')"
   ]
  },
  {
   "cell_type": "markdown",
   "metadata": {},
   "source": [
    "# DATA PREPROCESSING"
   ]
  },
  {
   "cell_type": "code",
   "execution_count": 32,
   "metadata": {},
   "outputs": [
    {
     "name": "stdout",
     "output_type": "stream",
     "text": [
      "<class 'pandas.core.frame.DataFrame'>\n",
      "Index: 73777 entries, 0 to 89457\n",
      "Data columns (total 8 columns):\n",
      " #   Column           Non-Null Count  Dtype  \n",
      "---  ------           --------------  -----  \n",
      " 0   MEREK            73777 non-null  object \n",
      " 1   HARGA            73777 non-null  int64  \n",
      " 2   KENDARAAN        73777 non-null  object \n",
      " 3   ODOMETER         73777 non-null  float64\n",
      " 4   TRANSMISI        73777 non-null  object \n",
      " 5   JENIS_KENDARAAN  73777 non-null  object \n",
      " 6   TAHUN_BUAT       73777 non-null  int64  \n",
      " 7   NEGARA           73777 non-null  object \n",
      "dtypes: float64(1), int64(2), object(5)\n",
      "memory usage: 5.1+ MB\n"
     ]
    }
   ],
   "source": [
    "df = df_ori.dropna()\n",
    "df.info()"
   ]
  },
  {
   "cell_type": "code",
   "execution_count": 33,
   "metadata": {},
   "outputs": [],
   "source": [
    "# Prepare data for modeling\n",
    "X = df[['KENDARAAN', 'JENIS_KENDARAAN', 'MEREK', 'TRANSMISI', 'NEGARA', 'TAHUN_BUAT', 'ODOMETER', ]]\n",
    "y = df['HARGA']"
   ]
  },
  {
   "cell_type": "markdown",
   "metadata": {},
   "source": [
    "## Split the data"
   ]
  },
  {
   "cell_type": "code",
   "execution_count": 34,
   "metadata": {},
   "outputs": [],
   "source": [
    "# Split the data\n",
    "X_train, X_test, y_train, y_test = train_test_split(X, y, test_size=0.2, random_state=42)\n",
    "\n",
    "# Define preprocessing for numeric and categorical features\n",
    "preprocessor = ColumnTransformer(\n",
    "    transformers=[\n",
    "        ('cat', OneHotEncoder(drop='first'), ['KENDARAAN', 'JENIS_KENDARAAN', 'MEREK', 'TRANSMISI', 'NEGARA']),\n",
    "        ('num', StandardScaler(), ['TAHUN_BUAT', 'ODOMETER'])\n",
    "    ])"
   ]
  },
  {
   "cell_type": "markdown",
   "metadata": {},
   "source": [
    "# ML MODEL "
   ]
  },
  {
   "cell_type": "code",
   "execution_count": 35,
   "metadata": {},
   "outputs": [],
   "source": [
    "# Define models to evaluate\n",
    "models = {\n",
    "    'Linear Regression': LinearRegression(),\n",
    "    'Random Forest': RandomForestRegressor(n_estimators=100, random_state=42),\n",
    "    'Gradient Boosting': GradientBoostingRegressor(n_estimators=100, random_state=42),\n",
    "    'SVR': SVR(kernel='rbf', C=100, epsilon=0.1)\n",
    "}\n",
    "\n",
    "# Results dictionary\n",
    "results = {\n",
    "    'Model': [],\n",
    "    'Training Time (s)': [],\n",
    "    'MSE': [],\n",
    "    'MAE': [],\n",
    "    'R²': []\n",
    "}"
   ]
  },
  {
   "cell_type": "markdown",
   "metadata": {},
   "source": [
    "## Train and Evaluate Model"
   ]
  },
  {
   "cell_type": "code",
   "execution_count": 36,
   "metadata": {},
   "outputs": [
    {
     "name": "stdout",
     "output_type": "stream",
     "text": [
      "\n",
      "Training Linear Regression...\n",
      "Linear Regression - Training Time: 0.83s, MSE: 83,298,482,152,203,376, MAE: 146,833,133, R²: 0.5054\n",
      "\n",
      "Training Random Forest...\n",
      "Random Forest - Training Time: 49.43s, MSE: 33,430,094,349,174,452, MAE: 80,089,694, R²: 0.8015\n",
      "\n",
      "Training Gradient Boosting...\n",
      "Gradient Boosting - Training Time: 2.50s, MSE: 55,250,618,356,637,120, MAE: 126,861,520, R²: 0.6720\n",
      "\n",
      "Training SVR...\n",
      "SVR - Training Time: 171.32s, MSE: 179,396,210,831,937,120, MAE: 169,291,049, R²: -0.0651\n"
     ]
    }
   ],
   "source": [
    "# Train and evaluate each model\n",
    "for name, model in models.items():\n",
    "    print(f\"\\nTraining {name}...\")\n",
    "    \n",
    "    # Create pipeline\n",
    "    pipeline = Pipeline([\n",
    "        ('preprocessor', preprocessor),\n",
    "        ('regressor', model)\n",
    "    ])\n",
    "    \n",
    "    # Measure training time\n",
    "    start_time = time.time()\n",
    "    pipeline.fit(X_train, y_train)\n",
    "    training_time = time.time() - start_time\n",
    "    \n",
    "    # Make predictions\n",
    "    y_pred = pipeline.predict(X_test)\n",
    "    \n",
    "    # Calculate metrics\n",
    "    mse = mean_squared_error(y_test, y_pred)\n",
    "    mae = mean_absolute_error(y_test, y_pred)\n",
    "    r2 = r2_score(y_test, y_pred)\n",
    "    \n",
    "    # Store results\n",
    "    results['Model'].append(name)\n",
    "    results['Training Time (s)'].append(training_time)\n",
    "    results['MSE'].append(mse)\n",
    "    results['MAE'].append(mae)\n",
    "    results['R²'].append(r2)\n",
    "    \n",
    "    print(f\"{name} - Training Time: {training_time:.2f}s, MSE: {mse:,.0f}, MAE: {mae:,.0f}, R²: {r2:.4f}\")"
   ]
  },
  {
   "cell_type": "code",
   "execution_count": 40,
   "metadata": {},
   "outputs": [
    {
     "data": {
      "application/vnd.microsoft.datawrangler.viewer.v0+json": {
       "columns": [
        {
         "name": "index",
         "rawType": "int64",
         "type": "integer"
        },
        {
         "name": "KENDARAAN",
         "rawType": "object",
         "type": "string"
        },
        {
         "name": "JENIS_KENDARAAN",
         "rawType": "object",
         "type": "string"
        },
        {
         "name": "MEREK",
         "rawType": "object",
         "type": "string"
        },
        {
         "name": "TRANSMISI",
         "rawType": "object",
         "type": "string"
        },
        {
         "name": "NEGARA",
         "rawType": "object",
         "type": "string"
        },
        {
         "name": "TAHUN_BUAT",
         "rawType": "int64",
         "type": "integer"
        },
        {
         "name": "ODOMETER",
         "rawType": "float64",
         "type": "float"
        }
       ],
       "conversionMethod": "pd.DataFrame",
       "ref": "a29fe589-3cb2-4bb7-a49d-965e081eb31d",
       "rows": [
        [
         "71910",
         "MOBIL",
         "MINIBUS",
         "MITSUBISHI",
         "MATIC",
         "JEPANG",
         "2018",
         "112500.0"
        ],
        [
         "12176",
         "MOBIL",
         "MINIBUS",
         "TOYOTA",
         "MATIC",
         "JEPANG",
         "2022",
         "52500.0"
        ],
        [
         "16883",
         "MOBIL",
         "MINIBUS",
         "TOYOTA",
         "MANUAL",
         "JEPANG",
         "2016",
         "35393.0"
        ],
        [
         "11644",
         "MOBIL",
         "MINIBUS",
         "TOYOTA",
         "MATIC",
         "JEPANG",
         "2021",
         "57500.0"
        ],
        [
         "10955",
         "MOBIL",
         "MINIBUS",
         "TOYOTA",
         "MATIC",
         "JEPANG",
         "2023",
         "62500.0"
        ],
        [
         "76740",
         "MOBIL",
         "MINIBUS",
         "TOYOTA",
         "MANUAL",
         "JEPANG",
         "2020",
         "12500.0"
        ],
        [
         "40318",
         "MOBIL",
         "MINIBUS",
         "HONDA",
         "MATIC",
         "JEPANG",
         "2018",
         "77500.0"
        ],
        [
         "60113",
         "MOBIL",
         "MINIBUS",
         "MAZDA",
         "MATIC",
         "JEPANG",
         "2012",
         "125000.0"
        ],
        [
         "82695",
         "MOBIL",
         "MINIBUS",
         "HYUNDAI",
         "MATIC",
         "KOREA",
         "2022",
         "37500.0"
        ],
        [
         "54697",
         "MOBIL",
         "MINIBUS",
         "SUZUKI",
         "MATIC",
         "JEPANG",
         "2020",
         "57500.0"
        ],
        [
         "12370",
         "MOBIL",
         "MINIBUS",
         "TOYOTA",
         "MATIC",
         "JEPANG",
         "2020",
         "27500.0"
        ],
        [
         "55933",
         "MOBIL",
         "MINIBUS",
         "SUZUKI",
         "MANUAL",
         "JEPANG",
         "2024",
         "0.0"
        ],
        [
         "55601",
         "MOBIL",
         "MINIBUS",
         "SUZUKI",
         "MATIC",
         "JEPANG",
         "2024",
         "0.0"
        ],
        [
         "88144",
         "MOBIL",
         "MINIBUS",
         "HYUNDAI",
         "MATIC",
         "KOREA",
         "2022",
         "47500.0"
        ],
        [
         "5539",
         "MOBIL",
         "MINIBUS",
         "PORSCHE",
         "MATIC",
         "JERMAN",
         "2017",
         "2500.0"
        ],
        [
         "32326",
         "MOBIL",
         "MINIBUS",
         "HONDA",
         "MATIC",
         "JEPANG",
         "2017",
         "87500.0"
        ],
        [
         "26049",
         "MOBIL",
         "SEDAN",
         "HONDA",
         "MATIC",
         "JEPANG",
         "2017",
         "52500.0"
        ],
        [
         "41901",
         "MOBIL",
         "MINIBUS",
         "HONDA",
         "MATIC",
         "JEPANG",
         "2021",
         "57500.0"
        ],
        [
         "78425",
         "MOBIL",
         "MINIBUS",
         "TOYOTA",
         "MATIC",
         "JEPANG",
         "2022",
         "32500.0"
        ],
        [
         "84061",
         "MOBIL",
         "MINIBUS",
         "HYUNDAI",
         "MATIC",
         "KOREA",
         "2011",
         "107500.0"
        ],
        [
         "6507",
         "MOBIL",
         "MINIBUS",
         "MINI",
         "MATIC",
         "INGGRIS",
         "2023",
         "100.0"
        ],
        [
         "27685",
         "MOBIL",
         "SEDAN",
         "HONDA",
         "MATIC",
         "JEPANG",
         "2013",
         "112500.0"
        ],
        [
         "156",
         "MOBIL",
         "MINIBUS",
         "FORD",
         "MATIC",
         "AMERIKA",
         "2014",
         "187500.0"
        ],
        [
         "32044",
         "MOBIL",
         "MINIBUS",
         "HONDA",
         "MANUAL",
         "JEPANG",
         "2020",
         "37500.0"
        ],
        [
         "75749",
         "MOBIL",
         "MINIBUS",
         "TOYOTA",
         "MATIC",
         "JEPANG",
         "2019",
         "47500.0"
        ],
        [
         "8525",
         "MOBIL",
         "MINIBUS",
         "TOYOTA",
         "MATIC",
         "JEPANG",
         "2024",
         "0.0"
        ],
        [
         "23098",
         "MOBIL",
         "MINIBUS",
         "TOYOTA",
         "MATIC",
         "JEPANG",
         "2021",
         "57500.0"
        ],
        [
         "30726",
         "MOBIL",
         "MINIBUS",
         "HONDA",
         "MATIC",
         "JEPANG",
         "2017",
         "57500.0"
        ],
        [
         "81426",
         "MOBIL",
         "MINIBUS",
         "TOYOTA",
         "MATIC",
         "JEPANG",
         "2021",
         "37500.0"
        ],
        [
         "61347",
         "MOBIL",
         "MINIBUS",
         "SUZUKI",
         "MATIC",
         "JEPANG",
         "2024",
         "0.0"
        ],
        [
         "20468",
         "MOBIL",
         "MINIBUS",
         "TOYOTA",
         "MATIC",
         "JEPANG",
         "2016",
         "86000.0"
        ],
        [
         "85838",
         "MOBIL",
         "MINIBUS",
         "WULING",
         "MATIC",
         "CHINA",
         "2021",
         "57500.0"
        ],
        [
         "20170",
         "MOBIL",
         "MINIBUS",
         "TOYOTA",
         "MANUAL",
         "JEPANG",
         "2021",
         "22500.0"
        ],
        [
         "77307",
         "MOBIL",
         "MINIBUS",
         "TOYOTA",
         "MATIC",
         "JEPANG",
         "2024",
         "0.0"
        ],
        [
         "84847",
         "MOBIL",
         "MINIBUS",
         "HYUNDAI",
         "MATIC",
         "KOREA",
         "2022",
         "7500.0"
        ],
        [
         "15222",
         "MOBIL",
         "SEDAN",
         "TOYOTA",
         "MATIC",
         "JEPANG",
         "2019",
         "36000.0"
        ],
        [
         "20286",
         "MOBIL",
         "MINIBUS",
         "TOYOTA",
         "MATIC",
         "JEPANG",
         "2022",
         "22500.0"
        ],
        [
         "78452",
         "MOBIL",
         "MINIBUS",
         "TOYOTA",
         "MATIC",
         "JEPANG",
         "2022",
         "22500.0"
        ],
        [
         "77886",
         "MOBIL",
         "MINIBUS",
         "TOYOTA",
         "MATIC",
         "JEPANG",
         "2021",
         "67500.0"
        ],
        [
         "16658",
         "MOBIL",
         "MINIBUS",
         "TOYOTA",
         "MANUAL",
         "JEPANG",
         "2024",
         "22500.0"
        ],
        [
         "75478",
         "MOBIL",
         "MINIBUS",
         "TOYOTA",
         "MATIC",
         "JEPANG",
         "2018",
         "77500.0"
        ],
        [
         "61752",
         "MOBIL",
         "MINIBUS",
         "DAIHATSU",
         "MATIC",
         "JEPANG",
         "2017",
         "66148.0"
        ],
        [
         "58661",
         "MOBIL",
         "MINIBUS",
         "DAIHATSU",
         "MATIC",
         "JEPANG",
         "2017",
         "67500.0"
        ],
        [
         "81092",
         "MOBIL",
         "MINIBUS",
         "TOYOTA",
         "MATIC",
         "JEPANG",
         "2011",
         "120000.0"
        ],
        [
         "39446",
         "MOBIL",
         "MINIBUS",
         "HONDA",
         "MATIC",
         "JEPANG",
         "2024",
         "2500.0"
        ],
        [
         "69720",
         "MOBIL",
         "MINIBUS",
         "TOYOTA",
         "MATIC",
         "JEPANG",
         "2022",
         "21119.0"
        ],
        [
         "31742",
         "MOBIL",
         "MINIBUS",
         "HONDA",
         "MATIC",
         "JEPANG",
         "2016",
         "57500.0"
        ],
        [
         "61930",
         "MOBIL",
         "MINIBUS",
         "MITSUBISHI",
         "MATIC",
         "JEPANG",
         "2014",
         "62500.0"
        ],
        [
         "65998",
         "MOBIL",
         "MINIBUS",
         "MITSUBISHI",
         "MATIC",
         "JEPANG",
         "2022",
         "32500.0"
        ],
        [
         "70836",
         "MOBIL",
         "MINIBUS",
         "TOYOTA",
         "MATIC",
         "JEPANG",
         "2024",
         "0.0"
        ]
       ],
       "shape": {
        "columns": 7,
        "rows": 14756
       }
      },
      "text/html": [
       "<div>\n",
       "<style scoped>\n",
       "    .dataframe tbody tr th:only-of-type {\n",
       "        vertical-align: middle;\n",
       "    }\n",
       "\n",
       "    .dataframe tbody tr th {\n",
       "        vertical-align: top;\n",
       "    }\n",
       "\n",
       "    .dataframe thead th {\n",
       "        text-align: right;\n",
       "    }\n",
       "</style>\n",
       "<table border=\"1\" class=\"dataframe\">\n",
       "  <thead>\n",
       "    <tr style=\"text-align: right;\">\n",
       "      <th></th>\n",
       "      <th>KENDARAAN</th>\n",
       "      <th>JENIS_KENDARAAN</th>\n",
       "      <th>MEREK</th>\n",
       "      <th>TRANSMISI</th>\n",
       "      <th>NEGARA</th>\n",
       "      <th>TAHUN_BUAT</th>\n",
       "      <th>ODOMETER</th>\n",
       "    </tr>\n",
       "  </thead>\n",
       "  <tbody>\n",
       "    <tr>\n",
       "      <th>71910</th>\n",
       "      <td>MOBIL</td>\n",
       "      <td>MINIBUS</td>\n",
       "      <td>MITSUBISHI</td>\n",
       "      <td>MATIC</td>\n",
       "      <td>JEPANG</td>\n",
       "      <td>2018</td>\n",
       "      <td>112500.0</td>\n",
       "    </tr>\n",
       "    <tr>\n",
       "      <th>12176</th>\n",
       "      <td>MOBIL</td>\n",
       "      <td>MINIBUS</td>\n",
       "      <td>TOYOTA</td>\n",
       "      <td>MATIC</td>\n",
       "      <td>JEPANG</td>\n",
       "      <td>2022</td>\n",
       "      <td>52500.0</td>\n",
       "    </tr>\n",
       "    <tr>\n",
       "      <th>16883</th>\n",
       "      <td>MOBIL</td>\n",
       "      <td>MINIBUS</td>\n",
       "      <td>TOYOTA</td>\n",
       "      <td>MANUAL</td>\n",
       "      <td>JEPANG</td>\n",
       "      <td>2016</td>\n",
       "      <td>35393.0</td>\n",
       "    </tr>\n",
       "    <tr>\n",
       "      <th>11644</th>\n",
       "      <td>MOBIL</td>\n",
       "      <td>MINIBUS</td>\n",
       "      <td>TOYOTA</td>\n",
       "      <td>MATIC</td>\n",
       "      <td>JEPANG</td>\n",
       "      <td>2021</td>\n",
       "      <td>57500.0</td>\n",
       "    </tr>\n",
       "    <tr>\n",
       "      <th>10955</th>\n",
       "      <td>MOBIL</td>\n",
       "      <td>MINIBUS</td>\n",
       "      <td>TOYOTA</td>\n",
       "      <td>MATIC</td>\n",
       "      <td>JEPANG</td>\n",
       "      <td>2023</td>\n",
       "      <td>62500.0</td>\n",
       "    </tr>\n",
       "    <tr>\n",
       "      <th>...</th>\n",
       "      <td>...</td>\n",
       "      <td>...</td>\n",
       "      <td>...</td>\n",
       "      <td>...</td>\n",
       "      <td>...</td>\n",
       "      <td>...</td>\n",
       "      <td>...</td>\n",
       "    </tr>\n",
       "    <tr>\n",
       "      <th>7723</th>\n",
       "      <td>MOBIL</td>\n",
       "      <td>MINIBUS</td>\n",
       "      <td>MINI</td>\n",
       "      <td>MATIC</td>\n",
       "      <td>INGGRIS</td>\n",
       "      <td>2024</td>\n",
       "      <td>0.0</td>\n",
       "    </tr>\n",
       "    <tr>\n",
       "      <th>9281</th>\n",
       "      <td>MOBIL</td>\n",
       "      <td>MINIBUS</td>\n",
       "      <td>TOYOTA</td>\n",
       "      <td>MATIC</td>\n",
       "      <td>JEPANG</td>\n",
       "      <td>2013</td>\n",
       "      <td>87500.0</td>\n",
       "    </tr>\n",
       "    <tr>\n",
       "      <th>54163</th>\n",
       "      <td>MOBIL</td>\n",
       "      <td>MINIBUS</td>\n",
       "      <td>SUZUKI</td>\n",
       "      <td>MATIC</td>\n",
       "      <td>JEPANG</td>\n",
       "      <td>2019</td>\n",
       "      <td>57500.0</td>\n",
       "    </tr>\n",
       "    <tr>\n",
       "      <th>79175</th>\n",
       "      <td>MOBIL</td>\n",
       "      <td>MINIBUS</td>\n",
       "      <td>TOYOTA</td>\n",
       "      <td>MATIC</td>\n",
       "      <td>JEPANG</td>\n",
       "      <td>2021</td>\n",
       "      <td>37500.0</td>\n",
       "    </tr>\n",
       "    <tr>\n",
       "      <th>84982</th>\n",
       "      <td>MOBIL</td>\n",
       "      <td>MINIBUS</td>\n",
       "      <td>HYUNDAI</td>\n",
       "      <td>MATIC</td>\n",
       "      <td>KOREA</td>\n",
       "      <td>2022</td>\n",
       "      <td>67500.0</td>\n",
       "    </tr>\n",
       "  </tbody>\n",
       "</table>\n",
       "<p>14756 rows × 7 columns</p>\n",
       "</div>"
      ],
      "text/plain": [
       "      KENDARAAN JENIS_KENDARAAN       MEREK TRANSMISI   NEGARA  TAHUN_BUAT  \\\n",
       "71910     MOBIL         MINIBUS  MITSUBISHI     MATIC   JEPANG        2018   \n",
       "12176     MOBIL         MINIBUS      TOYOTA     MATIC   JEPANG        2022   \n",
       "16883     MOBIL         MINIBUS      TOYOTA    MANUAL   JEPANG        2016   \n",
       "11644     MOBIL         MINIBUS      TOYOTA     MATIC   JEPANG        2021   \n",
       "10955     MOBIL         MINIBUS      TOYOTA     MATIC   JEPANG        2023   \n",
       "...         ...             ...         ...       ...      ...         ...   \n",
       "7723      MOBIL         MINIBUS        MINI     MATIC  INGGRIS        2024   \n",
       "9281      MOBIL         MINIBUS      TOYOTA     MATIC   JEPANG        2013   \n",
       "54163     MOBIL         MINIBUS      SUZUKI     MATIC   JEPANG        2019   \n",
       "79175     MOBIL         MINIBUS      TOYOTA     MATIC   JEPANG        2021   \n",
       "84982     MOBIL         MINIBUS     HYUNDAI     MATIC    KOREA        2022   \n",
       "\n",
       "       ODOMETER  \n",
       "71910  112500.0  \n",
       "12176   52500.0  \n",
       "16883   35393.0  \n",
       "11644   57500.0  \n",
       "10955   62500.0  \n",
       "...         ...  \n",
       "7723        0.0  \n",
       "9281    87500.0  \n",
       "54163   57500.0  \n",
       "79175   37500.0  \n",
       "84982   67500.0  \n",
       "\n",
       "[14756 rows x 7 columns]"
      ]
     },
     "execution_count": 40,
     "metadata": {},
     "output_type": "execute_result"
    }
   ],
   "source": [
    "X_test"
   ]
  },
  {
   "cell_type": "markdown",
   "metadata": {},
   "source": [
    "## Results"
   ]
  },
  {
   "cell_type": "code",
   "execution_count": 37,
   "metadata": {},
   "outputs": [
    {
     "name": "stdout",
     "output_type": "stream",
     "text": [
      "\n",
      "Model Comparison:\n",
      "               Model  Training Time (s)           MSE           MAE        R²\n",
      "0  Linear Regression           0.825522  8.329848e+16  1.468331e+08  0.505431\n",
      "1      Random Forest          49.426261  3.343009e+16  8.008969e+07  0.801515\n",
      "2  Gradient Boosting           2.502809  5.525062e+16  1.268615e+08  0.671960\n",
      "3                SVR         171.316722  1.793962e+17  1.692910e+08 -0.065132\n"
     ]
    }
   ],
   "source": [
    "# Create results DataFrame\n",
    "results_df = pd.DataFrame(results)\n",
    "print(\"\\nModel Comparison:\")\n",
    "print(results_df)"
   ]
  },
  {
   "cell_type": "code",
   "execution_count": 38,
   "metadata": {},
   "outputs": [
    {
     "data": {
      "image/png": "[encoded data removed]",
      "text/plain": [
       "<Figure size 1400x1000 with 4 Axes>"
      ]
     },
     "metadata": {},
     "output_type": "display_data"
    }
   ],
   "source": [
    "# Plot model performance comparison\n",
    "plt.figure(figsize=(14, 10))\n",
    "\n",
    "# Plot R² scores\n",
    "plt.subplot(2, 2, 1)\n",
    "sns.barplot(x='Model', y='R²', data=results_df)\n",
    "plt.title('Model Comparison - R² Score')\n",
    "plt.xticks(rotation=45)\n",
    "plt.ylim(0, 1)\n",
    "\n",
    "# Plot MSE\n",
    "plt.subplot(2, 2, 2)\n",
    "sns.barplot(x='Model', y='MSE', data=results_df)\n",
    "plt.title('Model Comparison - Mean Squared Error')\n",
    "plt.xticks(rotation=45)\n",
    "\n",
    "# Plot Training Time\n",
    "plt.subplot(2, 2, 3)\n",
    "sns.barplot(x='Model', y='Training Time (s)', data=results_df)\n",
    "plt.title('Model Comparison - Training Time')\n",
    "plt.xticks(rotation=45)\n",
    "\n",
    "# Plot MAE\n",
    "plt.subplot(2, 2, 4)\n",
    "sns.barplot(x='Model', y='MAE', data=results_df)\n",
    "plt.title('Model Comparison - Mean Absolute Error')\n",
    "plt.xticks(rotation=45)\n",
    "\n",
    "plt.tight_layout()\n",
    "plt.show()"
   ]
  },
  {
   "cell_type": "code",
   "execution_count": 39,
   "metadata": {},
   "outputs": [
    {
     "name": "stdout",
     "output_type": "stream",
     "text": [
      "\n",
      "Best performing model: Random Forest\n"
     ]
    }
   ],
   "source": [
    "# Find the best performing model (based on R²)\n",
    "best_model_name = results_df.loc[results_df['R²'].idxmax(), 'Model']\n",
    "print(f\"\\nBest performing model: {best_model_name}\")"
   ]
  },
  {
   "cell_type": "markdown",
   "metadata": {},
   "source": [
    "## Tuning Hyperparameter"
   ]
  },
  {
   "cell_type": "code",
   "execution_count": null,
   "metadata": {},
   "outputs": [],
   "source": [
    "if best_model_name == 'Random Forest':\n",
    "    print(\"\\nPerforming hyperparameter tuning for Random Forest...\")\n",
    "    \n",
    "    # Define parameter grid\n",
    "    param_grid = {\n",
    "        'regressor__n_estimators': [50, 100, 200],\n",
    "        'regressor__max_depth': [None, 10, 20, 30],\n",
    "        'regressor__min_samples_split': [2, 5, 10]\n",
    "    }\n",
    "    \n",
    "    # Create the pipeline\n",
    "    rf_pipeline = Pipeline([\n",
    "        ('preprocessor', preprocessor),\n",
    "        ('regressor', RandomForestRegressor(random_state=42))\n",
    "    ])\n",
    "    \n",
    "    # Grid search\n",
    "    grid_search = GridSearchCV(rf_pipeline, param_grid, cv=5, scoring='r2', n_jobs=-1)\n",
    "    grid_search.fit(X_train, y_train)\n",
    "    \n",
    "    # Best parameters and score\n",
    "    print(f\"Best parameters: {grid_search.best_params_}\")\n",
    "    print(f\"Best cross-validation R²: {grid_search.best_score_:.4f}\")\n",
    "    \n",
    "    # Evaluate on test set\n",
    "    best_rf = grid_search.best_estimator_\n",
    "    y_pred_rf = best_rf.predict(X_test)\n",
    "    rf_r2 = r2_score(y_test, y_pred_rf)\n",
    "    rf_mse = mean_squared_error(y_test, y_pred_rf)\n",
    "    \n",
    "    print(f\"Tuned Random Forest - Test MSE: {rf_mse:,.0f}, Test R²: {rf_r2:.4f}\")\n",
    "    \n",
    "    # Feature importance for Random Forest\n",
    "    if hasattr(best_rf['regressor'], 'feature_importances_'):\n",
    "        # Get feature names after preprocessing\n",
    "        cat_features = best_rf.named_steps['preprocessor'].transformers_[0][1].get_feature_names_out(['brand', 'country'])\n",
    "        num_features = ['year', 'odometer']\n",
    "        all_features = np.concatenate([cat_features, num_features])\n",
    "        \n",
    "        # Get feature importances\n",
    "        importances = best_rf['regressor'].feature_importances_\n",
    "        \n",
    "        # Create DataFrame and sort\n",
    "        feature_importance = pd.DataFrame({\n",
    "            'Feature': all_features,\n",
    "            'Importance': importances\n",
    "        }).sort_values('Importance', ascending=False)\n",
    "        \n",
    "        # Plot feature importance\n",
    "        plt.figure(figsize=(10, 6))\n",
    "        sns.barplot(x='Importance', y='Feature', data=feature_importance)\n",
    "        plt.title('Random Forest Feature Importance')\n",
    "        plt.tight_layout()\n",
    "        plt.show()\n",
    "        \n",
    "        print(\"\\nFeature Importance:\")\n",
    "        print(feature_importance)\n",
    "\n",
    "elif best_model_name == 'Gradient Boosting':\n",
    "    print(\"\\nPerforming hyperparameter tuning for Gradient Boosting...\")\n",
    "    \n",
    "    # Define parameter grid\n",
    "    param_grid = {\n",
    "        'regressor__n_estimators': [50, 100, 200],\n",
    "        'regressor__learning_rate': [0.01, 0.1, 0.2],\n",
    "        'regressor__max_depth': [3, 5, 7]\n",
    "    }\n",
    "    \n",
    "    # Create the pipeline\n",
    "    gb_pipeline = Pipeline([\n",
    "        ('preprocessor', preprocessor),\n",
    "        ('regressor', GradientBoostingRegressor(random_state=42))\n",
    "    ])\n",
    "    \n",
    "    # Grid search\n",
    "    grid_search = GridSearchCV(gb_pipeline, param_grid, cv=5, scoring='r2', n_jobs=-1)\n",
    "    grid_search.fit(X_train, y_train)\n",
    "    \n",
    "    # Best parameters and score\n",
    "    print(f\"Best parameters: {grid_search.best_params_}\")\n",
    "    print(f\"Best cross-validation R²: {grid_search.best_score_:.4f}\")\n",
    "    \n",
    "    # Evaluate on test set\n",
    "    best_gb = grid_search.best_estimator_\n",
    "    y_pred_gb = best_gb.predict(X_test)\n",
    "    gb_r2 = r2_score(y_test, y_pred_gb)\n",
    "    gb_mse = mean_squared_error(y_test, y_pred_gb)\n",
    "    \n",
    "    print(f\"Tuned Gradient Boosting - Test MSE: {gb_mse:,.0f}, Test R²: {gb_r2:.4f}\")\n",
    "    \n",
    "    # Feature importance for GBM\n",
    "    if hasattr(best_gb['regressor'], 'feature_importances_'):\n",
    "        # Get feature names after preprocessing\n",
    "        cat_features = best_gb.named_steps['preprocessor'].transformers_[0][1].get_feature_names_out(['brand', 'country'])\n",
    "        num_features = ['year', 'odometer']\n",
    "        all_features = np.concatenate([cat_features, num_features])\n",
    "        \n",
    "        # Get feature importances\n",
    "        importances = best_gb['regressor'].feature_importances_\n",
    "        \n",
    "        # Create DataFrame and sort\n",
    "        feature_importance = pd.DataFrame({\n",
    "            'Feature': all_features,\n",
    "            'Importance': importances\n",
    "        }).sort_values('Importance', ascending=False)\n",
    "        \n",
    "        # Plot feature importance\n",
    "        plt.figure(figsize=(10, 6))\n",
    "        sns.barplot(x='Importance', y='Feature', data=feature_importance)\n",
    "        plt.title('Gradient Boosting Feature Importance')\n",
    "        plt.tight_layout()\n",
    "        plt.show()\n",
    "        \n",
    "        print(\"\\nFeature Importance:\")\n",
    "        print(feature_importance)"
   ]
  },
  {
   "cell_type": "markdown",
   "metadata": {},
   "source": [
    "## Prediction"
   ]
  },
  {
   "cell_type": "code",
   "execution_count": 45,
   "metadata": {},
   "outputs": [
    {
     "data": {
      "application/vnd.microsoft.datawrangler.viewer.v0+json": {
       "columns": [
        {
         "name": "index",
         "rawType": "int64",
         "type": "integer"
        },
        {
         "name": "MEREK",
         "rawType": "object",
         "type": "string"
        },
        {
         "name": "KENDARAAN",
         "rawType": "object",
         "type": "string"
        },
        {
         "name": "ODOMETER",
         "rawType": "int64",
         "type": "integer"
        },
        {
         "name": "TRANSMISI",
         "rawType": "object",
         "type": "string"
        },
        {
         "name": "JENIS_KENDARAAN",
         "rawType": "object",
         "type": "string"
        },
        {
         "name": "TAHUN_BUAT",
         "rawType": "int64",
         "type": "integer"
        },
        {
         "name": "NEGARA",
         "rawType": "object",
         "type": "string"
        }
       ],
       "conversionMethod": "pd.DataFrame",
       "ref": "21c83d67-59c4-4f2f-9c1b-2aa73db61e53",
       "rows": [
        [
         "0",
         "JEEP",
         "MOBIL",
         "7500",
         "MATIC",
         "SEDAN",
         "2024",
         "AMERIKA"
        ]
       ],
       "shape": {
        "columns": 7,
        "rows": 1
       }
      },
      "text/html": [
       "<div>\n",
       "<style scoped>\n",
       "    .dataframe tbody tr th:only-of-type {\n",
       "        vertical-align: middle;\n",
       "    }\n",
       "\n",
       "    .dataframe tbody tr th {\n",
       "        vertical-align: top;\n",
       "    }\n",
       "\n",
       "    .dataframe thead th {\n",
       "        text-align: right;\n",
       "    }\n",
       "</style>\n",
       "<table border=\"1\" class=\"dataframe\">\n",
       "  <thead>\n",
       "    <tr style=\"text-align: right;\">\n",
       "      <th></th>\n",
       "      <th>MEREK</th>\n",
       "      <th>KENDARAAN</th>\n",
       "      <th>ODOMETER</th>\n",
       "      <th>TRANSMISI</th>\n",
       "      <th>JENIS_KENDARAAN</th>\n",
       "      <th>TAHUN_BUAT</th>\n",
       "      <th>NEGARA</th>\n",
       "    </tr>\n",
       "  </thead>\n",
       "  <tbody>\n",
       "    <tr>\n",
       "      <th>0</th>\n",
       "      <td>JEEP</td>\n",
       "      <td>MOBIL</td>\n",
       "      <td>7500</td>\n",
       "      <td>MATIC</td>\n",
       "      <td>SEDAN</td>\n",
       "      <td>2024</td>\n",
       "      <td>AMERIKA</td>\n",
       "    </tr>\n",
       "  </tbody>\n",
       "</table>\n",
       "</div>"
      ],
      "text/plain": [
       "  MEREK KENDARAAN  ODOMETER TRANSMISI JENIS_KENDARAAN  TAHUN_BUAT   NEGARA\n",
       "0  JEEP     MOBIL      7500     MATIC           SEDAN        2024  AMERIKA"
      ]
     },
     "execution_count": 45,
     "metadata": {},
     "output_type": "execute_result"
    }
   ],
   "source": [
    "input_df = pd.DataFrame({\n",
    "    'MEREK': ['JEEP'],\n",
    "    'KENDARAAN': ['MOBIL'],\n",
    "    'ODOMETER': [7500],\n",
    "    'TRANSMISI': ['MATIC'],\n",
    "    'JENIS_KENDARAAN': ['SEDAN'],\n",
    "    'TAHUN_BUAT': [2024],\n",
    "    'NEGARA': ['AMERIKA']\n",
    "})\n",
    "\n",
    "input_df"
   ]
  },
  {
   "cell_type": "code",
   "execution_count": null,
   "metadata": {},
   "outputs": [],
   "source": [
    "# Create pipeline\n",
    "rf_pipeline = Pipeline([\n",
    "    ('preprocessor', preprocessor),\n",
    "    ('regressor', RandomForestRegressor(random_state=42))\n",
    "])\n",
    "\n",
    "# Measure training time\n",
    "rf_pipeline.fit(X_train, y_train)"
   ]
  },
  {
   "cell_type": "code",
   "execution_count": 49,
   "metadata": {},
   "outputs": [
    {
     "data": {
      "text/plain": [
       "1064847737.72"
      ]
     },
     "execution_count": 49,
     "metadata": {},
     "output_type": "execute_result"
    }
   ],
   "source": [
    "# Make predictions\n",
    "round(float(rf_pipeline.predict(input_df)[0]), 2)"
   ]
  }
 ],
 "metadata": {
  "kernelspec": {
   "display_name": "datascience",
   "language": "python",
   "name": "python3"
  },
  "language_info": {
   "codemirror_mode": {
    "name": "ipython",
    "version": 3
   },
   "file_extension": ".py",
   "mimetype": "text/x-python",
   "name": "python",
   "nbconvert_exporter": "python",
   "pygments_lexer": "ipython3",
   "version": "3.12.7"
  }
 },
 "nbformat": 4,
 "nbformat_minor": 2
}
